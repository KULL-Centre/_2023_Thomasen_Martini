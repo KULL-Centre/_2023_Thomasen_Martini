{
 "cells": [
  {
   "cell_type": "code",
   "execution_count": 6,
   "metadata": {},
   "outputs": [],
   "source": [
    "import numpy as np\n",
    "import matplotlib.pyplot as plt\n",
    "from scipy import stats\n",
    "from scipy.optimize import curve_fit\n",
    "import pickle as pkl\n",
    "import sys\n",
    "blocking_dir='/storage1/thomasen/software/BLOCKING_OLD/MonoCV'\n",
    "sys.path.append(blocking_dir)\n",
    "import block as block"
   ]
  },
  {
   "cell_type": "code",
   "execution_count": 7,
   "metadata": {},
   "outputs": [
    {
     "data": {
      "image/png": "[encoded data removed]",
      "text/plain": [
       "<Figure size 360x360 with 1 Axes>"
      ]
     },
     "metadata": {
      "needs_background": "light"
     },
     "output_type": "display_data"
    }
   ],
   "source": [
    "from matplotlib.colors import ListedColormap, LinearSegmentedColormap\n",
    "\n",
    "#new_cmap = ['#1F78B4','#FB9A99','#E31A1C']\n",
    "new_cmap = ['tab:blue','tab:orange','tab:green']\n",
    "rtg_r = LinearSegmentedColormap.from_list(\"rtg\", new_cmap)\n",
    "colors = rtg_r(np.linspace(0,1,3))\n",
    "\n",
    "#Test colormap\n",
    "fig = plt.figure(figsize=(5,5))\n",
    "\n",
    "for i,color in enumerate(colors):\n",
    "    plt.axhline(i, color=colors[i], linewidth=2.5)"
   ]
  },
  {
   "cell_type": "code",
   "execution_count": 21,
   "metadata": {},
   "outputs": [],
   "source": [
    "systems = ['2PHES_150mMNaCl', 'TYR_PHE_150mMNaCl', '2TYRS_150mMNaCl', 'BUTYLAMMONIUM_ACETATE', 'GUANIDINE_ACETATE']\n",
    "ffmods = ['Unmodified', 'PW', 'PP']\n",
    "\n",
    "systems_plotname_alt = {'2PHES_150mMNaCl':'Phe-Phe',\n",
    "                    'TYR_PHE_150mMNaCl':'Tyr-Phe',\n",
    "                    '2TYRS_150mMNaCl':'Tyr-Tyr',\n",
    "                    'BUTYLAMMONIUM_ACETATE':'Butylammonium-Acetate',\n",
    "                    'GUANIDINE_ACETATE':'Guanidine-Acetate'}\n",
    "\n",
    "systems_plotname = {'2PHES_150mMNaCl':'Phe-Phe',\n",
    "                    'TYR_PHE_150mMNaCl':'Tyr-Phe',\n",
    "                    '2TYRS_150mMNaCl':'Tyr-Tyr',\n",
    "                    'BUTYLAMMONIUM_ACETATE':'Lys-Asp',\n",
    "                    'GUANIDINE_ACETATE':'Arg-Asp'}\n",
    "\n",
    "bound_cutoff = 0.8\n",
    "recalculate = False"
   ]
  },
  {
   "cell_type": "code",
   "execution_count": 9,
   "metadata": {},
   "outputs": [],
   "source": [
    "#Functions for saving and loading pickle files\n",
    "def save_pickle(filename, pickle_obj):\n",
    "    with open(filename, 'wb') as f:\n",
    "        pkl.dump(pickle_obj, f)\n",
    "\n",
    "def load_pickle(filename):\n",
    "    with open(filename, 'rb') as f:\n",
    "        loaded_obj = pkl.load(f)\n",
    "        \n",
    "    return loaded_obj"
   ]
  },
  {
   "cell_type": "code",
   "execution_count": 10,
   "metadata": {},
   "outputs": [],
   "source": [
    "if recalculate == True:\n",
    "\n",
    "    for system in systems:\n",
    "        fraction_bound_vs_sim = {}\n",
    "        for i,ffmod in enumerate(ffmods):\n",
    "            print(f'Starting {system} {ffmod}')\n",
    "\n",
    "            time, mindist = np.genfromtxt(f'data/mindist_{system}_{ffmod}.xvg', skip_header=24, usecols=(0,1), unpack=True)\n",
    "            print('Loaded data')\n",
    "\n",
    "            #Get fraction bound average and block error\n",
    "            bound_vs_time = mindist < bound_cutoff\n",
    "            frames_bound = np.average(bound_vs_time)\n",
    "            blocks_stat = block.blocking(bound_vs_time)\n",
    "            corr_len, err = block.optimal_block(len(bound_vs_time),blocks_stat,method='hline')\n",
    "\n",
    "            fraction_bound_vs_sim[f'{system}_{ffmod}'] = [frames_bound, err]\n",
    "\n",
    "        save_pickle(f'pickles/fractions_bound_mindist_{system}.pkl', fraction_bound_vs_sim)"
   ]
  },
  {
   "cell_type": "code",
   "execution_count": 11,
   "metadata": {},
   "outputs": [
    {
     "data": {
      "image/png": "[encoded data removed]",
      "text/plain": [
       "<Figure size 288x288 with 1 Axes>"
      ]
     },
     "metadata": {
      "needs_background": "light"
     },
     "output_type": "display_data"
    }
   ],
   "source": [
    "#Plot data\n",
    "fig= plt.figure(figsize=(4,4))\n",
    "\n",
    "xtick_labels=[]\n",
    "for i,system in enumerate(systems):\n",
    "    fraction_bound_vs_sim = load_pickle(f'pickles/fractions_bound_mindist_{system}.pkl')\n",
    "    xaxis = [i-0.25, i, i+0.25]\n",
    "\n",
    "    for j,ffmod in enumerate(ffmods):\n",
    "        fraction_bound = fraction_bound_vs_sim[f'{system}_{ffmod}'][0]\n",
    "        fraction_bound_err = fraction_bound_vs_sim[f'{system}_{ffmod}'][1]\n",
    "        plt.bar(xaxis[j], fraction_bound*100, yerr=fraction_bound_err*100, color=colors[j], width=0.2, edgecolor='black', capsize=3.0)\n",
    "    \n",
    "    xtick_labels.append(systems_plotname[system])\n",
    "\n",
    "plt.ylim(0,6)\n",
    "plt.ylabel('% bound', fontsize=20)\n",
    "\n",
    "plt.tick_params(colors='black', direction='out', length=7, labelsize=20)\n",
    "plt.xticks(range(len(systems)), labels=xtick_labels, rotation=30, fontsize=20, ha='right')"
   ]
  },
  {
   "cell_type": "markdown",
   "metadata": {},
   "source": [
    "# Experimental Ka for Lys-Asp and Arg-Asp"
   ]
  },
  {
   "cell_type": "code",
   "execution_count": 17,
   "metadata": {},
   "outputs": [],
   "source": [
    "#From Spriggs and Haake 1977\n",
    "#and Christian and Tucker 1982\n",
    "Kd_exp = {\n",
    "    'BUTYLAMMONIUM_ACETATE':(1.0/0.31),\n",
    "    'GUANIDINE_ACETATE':(1.0/0.37),\n",
    "    '2PHES_150mMNaCl':(1.0/0.40),\n",
    "    'TYR_PHE_150mMNaCl':(1.0/0.60)\n",
    "\n",
    "}\n",
    "systems_expt = Kd_exp.keys()"
   ]
  },
  {
   "cell_type": "code",
   "execution_count": 18,
   "metadata": {},
   "outputs": [
    {
     "name": "stdout",
     "output_type": "stream",
     "text": [
      "BUTYLAMMONIUM_ACETATE\n",
      "Unmodified\n",
      "PW\n",
      "PP\n",
      "GUANIDINE_ACETATE\n",
      "Unmodified\n",
      "PW\n",
      "PP\n",
      "2PHES_150mMNaCl\n",
      "Unmodified\n",
      "PW\n",
      "PP\n",
      "TYR_PHE_150mMNaCl\n",
      "Unmodified\n",
      "PW\n",
      "PP\n"
     ]
    }
   ],
   "source": [
    "if recalculate == True:\n",
    "\n",
    "    real_fraction_bound_vs_system = {}\n",
    "    for system in systems_expt:\n",
    "        print(system)\n",
    "        avg_volume = 0\n",
    "        for i,ffmod in enumerate(ffmods):\n",
    "            print(ffmod)\n",
    "            volume = np.genfromtxt(f'data/pVTE_{system}_{ffmod}.xvg', skip_header=27, usecols=4, unpack=True)\n",
    "            avg_volume += np.average(volume)\n",
    "\n",
    "        avg_volume /= len(ffmods)\n",
    "        avogadros = 6.022*(10**23)\n",
    "        vol_liters = avg_volume*((10**-9)**3)*(10**3)\n",
    "\n",
    "        conc = ((2/avogadros)/vol_liters) #2 for two copies of the protein\n",
    "        real_fraction_bound = (4*conc + Kd_exp[system] - np.sqrt(8*Kd_exp[system]*conc + np.square(Kd_exp[system])))/(4*conc)\n",
    "        \n",
    "        real_fraction_bound_vs_system[f'{system}_conc'] = conc\n",
    "        real_fraction_bound_vs_system[system] = real_fraction_bound\n",
    "\n",
    "    save_pickle(f'pickles/real_fraction_bound_vs_system.pkl', real_fraction_bound_vs_system)"
   ]
  },
  {
   "cell_type": "code",
   "execution_count": 25,
   "metadata": {},
   "outputs": [
    {
     "data": {
      "image/png": "[encoded data removed]",
      "text/plain": [
       "<Figure size 288x288 with 1 Axes>"
      ]
     },
     "metadata": {
      "needs_background": "light"
     },
     "output_type": "display_data"
    }
   ],
   "source": [
    "real_fraction_bound_vs_system = load_pickle(f'pickles/real_fraction_bound_vs_system.pkl')\n",
    "\n",
    "#Plot data\n",
    "fig = plt.figure(figsize=(4,4))\n",
    "\n",
    "xtick_labels=[]\n",
    "for i,system in enumerate(systems):\n",
    "    fraction_bound_vs_sim = load_pickle(f'pickles/fractions_bound_mindist_{system}.pkl')\n",
    "    xaxis = [i-0.25, i, i+0.25]\n",
    "\n",
    "    for j,ffmod in enumerate(ffmods):\n",
    "        fraction_bound = fraction_bound_vs_sim[f'{system}_{ffmod}'][0]\n",
    "        fraction_bound_err = fraction_bound_vs_sim[f'{system}_{ffmod}'][1]\n",
    "        plt.bar(xaxis[j], fraction_bound*100, yerr=fraction_bound_err*100, color=colors[j], width=0.2, edgecolor='black', capsize=3.0)\n",
    "    if system in systems_expt:\n",
    "        plt.axhline(y=real_fraction_bound_vs_system[system]*100, xmin=(i/len(systems)), xmax=((i+1)/len(systems)), c='black', lw=2)\n",
    "        #plt.axhline(y=real_fraction_bound_vs_system[system]*100, ls='--', c='black', lw=2)\n",
    "   \n",
    "    xtick_labels.append(systems_plotname[system])\n",
    "\n",
    "plt.ylim(0,6)\n",
    "plt.ylabel('% bound', fontsize=20)\n",
    "\n",
    "plt.tick_params(colors='black', direction='out', length=7, labelsize=20)\n",
    "plt.xticks(range(len(systems)), labels=xtick_labels, rotation=30, fontsize=20, ha='right')\n",
    "\n",
    "fig.savefig(f\"../figures/sidechainanalogues_fractionbound_vs_lambda.png\", bbox_inches='tight', pad_inches=1, dpi=400)\n",
    "fig.savefig(f\"../figures/sidechainanalogues_fractionbound_vs_lambda.pdf\", bbox_inches='tight', pad_inches=1, dpi=400)"
   ]
  },
  {
   "cell_type": "code",
   "execution_count": 20,
   "metadata": {},
   "outputs": [
    {
     "name": "stdout",
     "output_type": "stream",
     "text": [
      "{'BUTYLAMMONIUM_ACETATE_conc': 0.02092977437136943, 'BUTYLAMMONIUM_ACETATE': 0.012650226393793257, 'GUANIDINE_ACETATE_conc': 0.020826832381045476, 'GUANIDINE_ACETATE': 0.014954353861487416, '2PHES_150mMNaCl_conc': 0.02156207070235736, '2PHES_150mMNaCl': 0.016679039832441928, 'TYR_PHE_150mMNaCl_conc': 0.02163244498851071, 'TYR_PHE_150mMNaCl': 0.02469276622069545}\n"
     ]
    }
   ],
   "source": [
    "print(real_fraction_bound_vs_system)"
   ]
  },
  {
   "cell_type": "code",
   "execution_count": null,
   "metadata": {},
   "outputs": [],
   "source": []
  }
 ],
 "metadata": {
  "kernelspec": {
   "display_name": "Python 3",
   "language": "python",
   "name": "python3"
  },
  "language_info": {
   "codemirror_mode": {
    "name": "ipython",
    "version": 3
   },
   "file_extension": ".py",
   "mimetype": "text/x-python",
   "name": "python",
   "nbconvert_exporter": "python",
   "pygments_lexer": "ipython3",
   "version": "3.7.9"
  }
 },
 "nbformat": 4,
 "nbformat_minor": 5
}
